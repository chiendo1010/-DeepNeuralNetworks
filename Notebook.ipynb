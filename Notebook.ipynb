{
 "cells": [
  {
   "cell_type": "code",
   "execution_count": 0,
   "metadata": {},
   "outputs": [],
   "source": [
    "import numpy as np\n",
    "import scipy\n",
    "import matplotlib.pyplot as plt\n",
    "\n",
    "%load_ext autoreload\n",
    "%autoreload 2\n",
    "from dnn_app_utils import *\n",
    "from file_utils import *\n"
   ]
  },
  {
   "cell_type": "code",
   "execution_count": 0,
   "metadata": {},
   "outputs": [],
   "source": [
    "# Load data\n",
    "train_x_orig, train_y, test_x_orig, test_y = load_data()\n"
   ]
  },
  {
   "cell_type": "code",
   "execution_count": 0,
   "metadata": {},
   "outputs": [],
   "source": [
    "# Shuffle data, and use one small part\n",
    "m_train_take = 5000\n",
    "m_test_take = 500\n",
    "permutation = list(np.random.permutation(train_x_orig.shape[0]))\n",
    "train_x_orig = train_x_orig[permutation, :]\n",
    "train_y = train_y[permutation]\n",
    "\n",
    "train_x_orig = train_x_orig[0:m_train_take, :]\n",
    "train_y = train_y[0:m_train_take]\n",
    "\n",
    "test_x_orig = test_x_orig[0:m_test_take, :]\n",
    "test_y = test_y[0:m_test_take]\n"
   ]
  },
  {
   "cell_type": "code",
   "execution_count": 0,
   "metadata": {},
   "outputs": [],
   "source": [
    "# Plot\n",
    "index = 15\n",
    "plt.imshow(train_x_orig[index])\n",
    "print(\"y = \" + str(train_y[index]))\n",
    "\n"
   ]
  },
  {
   "cell_type": "code",
   "execution_count": 0,
   "metadata": {},
   "outputs": [],
   "source": [
    "# Explore your dataset \n",
    "m_train = train_x_orig.shape[0]\n",
    "num_px = train_x_orig.shape[1]\n",
    "m_test = test_x_orig.shape[0]\n",
    "\n",
    "train_y = train_y.reshape(1,-1)\n",
    "test_y = test_y.reshape(1,-1)\n",
    "\n",
    "print (\"Number of training examples: \" + str(m_train))\n",
    "print (\"Number of testing examples: \" + str(m_test))\n",
    "print (\"Each image is of size: (\" + str(num_px) + \")\")\n",
    "print (\"train_x_orig shape: \" + str(train_x_orig.shape))\n",
    "print (\"train_y shape: \" + str(train_y.shape))\n",
    "print (\"test_x_orig shape: \" + str(test_x_orig.shape))\n",
    "print (\"test_y shape: \" + str(test_y.shape))\n",
    "\n",
    "train_x_flatten = train_x_orig.reshape(m_train, num_px*num_px).T\n",
    "test_x_flatten = test_x_orig.reshape(m_test, num_px*num_px).T\n",
    "\n",
    "# Standardize data to have feature values between 0 and 1.\n",
    "train_x = train_x_flatten/255.\n",
    "test_x = test_x_flatten/255.\n"
   ]
  },
  {
   "cell_type": "code",
   "execution_count": 0,
   "metadata": {},
   "outputs": [],
   "source": [
    "#  Gradient Checking\n",
    "m_testGrad_take = 10\n",
    "layers_dims = [num_px*num_px, 3, 3, 10] # Use small model for checking\n",
    "parameters = initialize_parameters_deep(layers_dims)\n",
    "AL, caches = L_model_forward(train_x[:,0:m_testGrad_take], parameters)\n",
    "grads = L_model_backward(AL, train_y[:,0:m_testGrad_take], caches)\n",
    "gradient_check_n(parameters, grads, layers_dims, train_x[:,0:m_testGrad_take], train_y[:,0:m_testGrad_take])\n"
   ]
  },
  {
   "cell_type": "code",
   "execution_count": 0,
   "metadata": {},
   "outputs": [],
   "source": [
    "### CONSTANTS ###\n",
    "layers_dims = [num_px*num_px, 20, 7, 5, 10] #  4-layer model\n",
    "parameters = L_layer_model(train_x, train_y, layers_dims, learning_rate = 0.09, num_iterations = 1500, print_cost = True)\n",
    "predictions_train = predict(train_x, train_y, parameters)\n",
    "predictions_test = predict(test_x, test_y, parameters)\n",
    "playSoundFinish()\n"
   ]
  },
  {
   "cell_type": "code",
   "execution_count": 0,
   "metadata": {},
   "outputs": [],
   "source": [
    "filename = 'parameters.h5'\n",
    "save_dict_to_hdf5(parameters, filename)\n"
   ]
  },
  {
   "cell_type": "code",
   "execution_count": 0,
   "metadata": {},
   "outputs": [],
   "source": []
  }
 ],
 "metadata": {
  "file_extension": ".py",
  "kernelspec": {
   "display_name": "Python 3",
   "language": "python",
   "name": "python3"
  },
  "language_info": {
   "codemirror_mode": {
    "name": "ipython",
    "version": 3
   },
   "file_extension": ".py",
   "mimetype": "text/x-python",
   "name": "python",
   "nbconvert_exporter": "python",
   "pygments_lexer": "ipython3",
   "version": "3.7.1"
  },
  "mimetype": "text/x-python",
  "name": "python",
  "npconvert_exporter": "python",
  "pygments_lexer": "ipython3",
  "version": 3
 },
 "nbformat": 4,
 "nbformat_minor": 2
}
