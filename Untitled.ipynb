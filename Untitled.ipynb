{
  "nbformat": 4,
  "nbformat_minor": 0,
  "metadata": {
    "colab": {
      "name": "Untitled.ipynb",
      "version": "0.3.2",
      "provenance": [],
      "include_colab_link": true
    },
    "kernelspec": {
      "display_name": "Python 3",
      "language": "python",
      "name": "python3"
    }
  },
  "cells": [
    {
      "cell_type": "markdown",
      "metadata": {
        "id": "view-in-github",
        "colab_type": "text"
      },
      "source": [
        "<a href=\"https://colab.research.google.com/github/chiendo1010/DeepNeuralNetworks/blob/master/Untitled.ipynb\" target=\"_parent\"><img src=\"https://colab.research.google.com/assets/colab-badge.svg\" alt=\"Open In Colab\"/></a>"
      ]
    },
    {
      "metadata": {
        "id": "GaC207f9Ia1a",
        "colab_type": "code",
        "colab": {}
      },
      "cell_type": "code",
      "source": [
        "import numpy as np\n",
        "import scipy\n",
        "import matplotlib.pyplot as plt\n",
        "\n",
        "from dnn_app_utils import *\n",
        "\n"
      ],
      "execution_count": 0,
      "outputs": []
    },
    {
      "metadata": {
        "id": "WGq8Q0YoIa1g",
        "colab_type": "code",
        "colab": {}
      },
      "cell_type": "code",
      "source": [
        "train_x_orig, train_y, test_x_orig, test_y = load_data()\n"
      ],
      "execution_count": 0,
      "outputs": []
    },
    {
      "metadata": {
        "id": "kVdK-1DQIa1k",
        "colab_type": "code",
        "outputId": "00ecc61c-2447-456b-aa47-9f53299808a6",
        "colab": {
          "base_uri": "https://localhost:8080/",
          "height": 364
        }
      },
      "cell_type": "code",
      "source": [
        "index = 20\n",
        "plt.imshow(train_x_orig[index])\n",
        "print(\"y = \" + str(train_y[index]))"
      ],
      "execution_count": 0,
      "outputs": [
        {
          "output_type": "stream",
          "text": [
            "y = 4\n"
          ],
          "name": "stdout"
        },
        {
          "output_type": "display_data",
          "data": {
            "image/png": "[encoded data removed]",
            "text/plain": [
              "<Figure size 576x396 with 1 Axes>"
            ]
          },
          "metadata": {
            "tags": []
          }
        }
      ]
    },
    {
      "metadata": {
        "id": "a1WZm-b6Ia1q",
        "colab_type": "code",
        "colab": {}
      },
      "cell_type": "code",
      "source": [
        "# Shuffle data, and use one small part\n",
        "m_train_take = 5000\n",
        "m_test_take = 500\n",
        "permutation = list(np.random.permutation(train_x_orig.shape[0]))\n",
        "train_x_orig = train_x_orig[permutation, :]\n",
        "train_y = train_y[permutation]\n",
        "\n",
        "train_x_orig = train_x_orig[0:m_train_take, :]\n",
        "train_y = train_y[0:m_train_take]\n",
        "\n",
        "test_x_orig = test_x_orig[0:m_test_take, :]\n",
        "test_y = test_y[0:m_test_take]\n"
      ],
      "execution_count": 0,
      "outputs": []
    },
    {
      "metadata": {
        "id": "jI3mt6ENIa1u",
        "colab_type": "code",
        "outputId": "7a489466-fb14-40ed-dad5-e3458f77f99a",
        "colab": {
          "base_uri": "https://localhost:8080/",
          "height": 136
        }
      },
      "cell_type": "code",
      "source": [
        "# Explore your dataset \n",
        "m_train = train_x_orig.shape[0]\n",
        "num_px = train_x_orig.shape[1]\n",
        "m_test = test_x_orig.shape[0]\n",
        "\n",
        "train_y = train_y.reshape(1,-1)\n",
        "test_y = test_y.reshape(1,-1)\n",
        "\n",
        "print (\"Number of training examples: \" + str(m_train))\n",
        "print (\"Number of testing examples: \" + str(m_test))\n",
        "print (\"Each image is of size: (\" + str(num_px) + \")\")\n",
        "print (\"train_x_orig shape: \" + str(train_x_orig.shape))\n",
        "print (\"train_y shape: \" + str(train_y.shape))\n",
        "print (\"test_x_orig shape: \" + str(test_x_orig.shape))\n",
        "print (\"test_y shape: \" + str(test_y.shape))\n",
        "\n",
        "train_x_flatten = train_x_orig.reshape(m_train, num_px*num_px).T\n",
        "test_x_flatten = test_x_orig.reshape(m_test, num_px*num_px).T\n",
        "\n",
        "# Standardize data to have feature values between 0 and 1.\n",
        "train_x = train_x_flatten/255.\n",
        "test_x = test_x_flatten/255.\n"
      ],
      "execution_count": 0,
      "outputs": [
        {
          "output_type": "stream",
          "text": [
            "Number of training examples: 60000\n",
            "Number of testing examples: 10000\n",
            "Each image is of size: (28)\n",
            "train_x_orig shape: (60000, 28, 28)\n",
            "train_y shape: (1, 60000)\n",
            "test_x_orig shape: (10000, 28, 28)\n",
            "test_y shape: (1, 10000)\n"
          ],
          "name": "stdout"
        }
      ]
    },
    {
      "metadata": {
        "id": "kMYpRaYCIa10",
        "colab_type": "code",
        "outputId": "55544baf-9609-4d61-ac0a-ace6b49d4a46",
        "colab": {
          "base_uri": "https://localhost:8080/",
          "height": 51
        }
      },
      "cell_type": "code",
      "source": [
        "#  Gradient Checking\n",
        "layers_dims = [num_px*num_px, 2, 2, 10] # Use small model for checking\n",
        "parameters = initialize_parameters_deep(layers_dims)\n",
        "AL, caches = L_model_forward(train_x[:,0:5], parameters)\n",
        "grads = L_model_backward(AL, train_y[:,0:5], caches)\n",
        "gradient_check_n(parameters, grads, layers_dims, train_x[:,0:5], train_y[:,0:5])\n"
      ],
      "execution_count": 0,
      "outputs": [
        {
          "output_type": "stream",
          "text": [
            "\u001b[93mThere is a mistake in the backward propagation! difference = 0.012520046909358082\u001b[0m\n"
          ],
          "name": "stdout"
        },
        {
          "output_type": "execute_result",
          "data": {
            "text/plain": [
              "0.012520046909358082"
            ]
          },
          "metadata": {
            "tags": []
          },
          "execution_count": 18
        }
      ]
    },
    {
      "metadata": {
        "id": "quDMJNj6Ll5o",
        "colab_type": "code",
        "outputId": "a257d692-e282-41d7-8cd1-26362d7fd0ef",
        "colab": {
          "base_uri": "https://localhost:8080/",
          "height": 34
        }
      },
      "cell_type": "code",
      "source": [
        "### CONSTANTS ###\n",
        "layers_dims = [num_px*num_px, 20, 7, 5, 10] #  4-layer model\n",
        "parameters = L_layer_model(train_x, train_y, layers_dims, learning_rate = 0.06, num_iterations = 1500, print_cost = True)\n",
        "predictions_train = predict(train_x, train_y, parameters)\n",
        "predictions_test = predict(test_x, test_y, parameters)\n",
        "playSoundFinish()"
      ],
      "execution_count": 0,
      "outputs": [
        {
          "output_type": "stream",
          "text": [
            "Cost after iteration 0: 6.955278\n"
          ],
          "name": "stdout"
        }
      ]
    },
    {
      "metadata": {
        "id": "p9vq-WUlLzcq",
        "colab_type": "code",
        "colab": {}
      },
      "cell_type": "code",
      "source": [
        ""
      ],
      "execution_count": 0,
      "outputs": []
    }
  ]
}